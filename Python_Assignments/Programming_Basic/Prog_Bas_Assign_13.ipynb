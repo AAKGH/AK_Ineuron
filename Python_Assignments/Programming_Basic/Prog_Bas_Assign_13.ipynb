{
 "cells": [
  {
   "cell_type": "markdown",
   "id": "8eb00495",
   "metadata": {},
   "source": [
    "### Write a program that calculates and prints the value according to the given formula:\n",
    "\n",
    "Q = Square root of [(2 * C * D)/H]\n",
    "\n",
    "Following are the fixed values of C and H:\n",
    "\n",
    "C is 50. H is 30.\n",
    "\n",
    "D is the variable whose values should be input to your program in a comma-separated sequence.\n"
   ]
  },
  {
   "cell_type": "code",
   "execution_count": 24,
   "id": "42266c26",
   "metadata": {},
   "outputs": [],
   "source": [
    "def calculate_Q (l):\n",
    "    \n",
    "    \"\"\"Function to calculate Q based on given formula\"\"\"\n",
    "    output = []\n",
    "    c= 50\n",
    "    h= 30\n",
    "    for i in l:\n",
    "        temp = (2*c*i)/h\n",
    "        output.append(temp)\n",
    "    \n",
    "    return output"
   ]
  },
  {
   "cell_type": "code",
   "execution_count": 25,
   "id": "407221c4",
   "metadata": {},
   "outputs": [
    {
     "name": "stdout",
     "output_type": "stream",
     "text": [
      "Enter the values of D to compute output100,150,180\n",
      "Computed values: [333.3333333333333, 500.0, 600.0]\n"
     ]
    }
   ],
   "source": [
    "l= input(\"Enter the values of D to compute output\")\n",
    "l= l.split(sep = \",\")\n",
    "\n",
    "for i in range(len(l)):\n",
    "    l[i]=int(l[i])\n",
    "    \n",
    "print(\"Computed values:\",calculate_Q(l))"
   ]
  },
  {
   "cell_type": "markdown",
   "id": "e87e8dca",
   "metadata": {},
   "source": [
    "### Write a program which takes 2 digits, X,Y as input and generates a 2-dimensional array. The element value in the i-th row and j-th column of the array should be i*j.\n",
    "\n",
    "Note: i=0,1.., X-1; j=0,1,¡¬Y-1.\n"
   ]
  },
  {
   "cell_type": "code",
   "execution_count": 26,
   "id": "96c71462",
   "metadata": {},
   "outputs": [],
   "source": [
    "def array_gen (x,y):\n",
    "    output=[]\n",
    "        \n",
    "    for k in range(x):\n",
    "        temp=[]\n",
    "        for l in range(y):\n",
    "            temp.append(k*l)\n",
    "        output.append(temp)\n",
    "    \n",
    "    return output"
   ]
  },
  {
   "cell_type": "code",
   "execution_count": 27,
   "id": "72af019d",
   "metadata": {},
   "outputs": [
    {
     "data": {
      "text/plain": [
       "[[0, 0, 0, 0, 0], [0, 1, 2, 3, 4], [0, 2, 4, 6, 8]]"
      ]
     },
     "execution_count": 27,
     "metadata": {},
     "output_type": "execute_result"
    }
   ],
   "source": [
    "array_gen(3,5)"
   ]
  },
  {
   "cell_type": "markdown",
   "id": "fa4360d3",
   "metadata": {},
   "source": [
    "### Write a program that accepts a comma separated sequence of words as input and prints the words in a comma-separated sequence after sorting them alphabetically."
   ]
  },
  {
   "cell_type": "code",
   "execution_count": 56,
   "id": "ee9e6d89",
   "metadata": {},
   "outputs": [
    {
     "name": "stdout",
     "output_type": "stream",
     "text": [
      "Enter the words to be sorted by seperating them with ',':without,hello,bag,world\n"
     ]
    },
    {
     "data": {
      "text/plain": [
       "['bag', 'hello', 'without', 'world']"
      ]
     },
     "execution_count": 56,
     "metadata": {},
     "output_type": "execute_result"
    }
   ],
   "source": [
    "s= input(\"Enter the words to be sorted by seperating them with ',':\")\n",
    "l= s.split(sep=\",\")\n",
    "d={}\n",
    "\n",
    "for i in l:\n",
    "    temp = i\n",
    "    asci = 0\n",
    "    for j in temp:\n",
    "        asci = asci + ord(j)\n",
    "    d[temp]=asci\n",
    "\n",
    "\n",
    "l=list(d.keys())\n",
    "l.sort()\n",
    "l"
   ]
  },
  {
   "cell_type": "markdown",
   "id": "686cfacb",
   "metadata": {},
   "source": [
    "### Write a program that accepts a sequence of whitespace separated words as input and prints the words after removing all duplicate words and sorting them alphanumerically."
   ]
  },
  {
   "cell_type": "code",
   "execution_count": 55,
   "id": "40f4cba5",
   "metadata": {},
   "outputs": [
    {
     "name": "stdout",
     "output_type": "stream",
     "text": [
      "Enter the words to be sorted by seperating them with ' ':hello world and practice makes perfect and hello world again\n"
     ]
    },
    {
     "data": {
      "text/plain": [
       "['again', 'and', 'hello', 'makes', 'perfect', 'practice', 'world']"
      ]
     },
     "execution_count": 55,
     "metadata": {},
     "output_type": "execute_result"
    }
   ],
   "source": [
    "s= input(\"Enter the words to be sorted by seperating them with ' ':\")\n",
    "l= s.split(sep=\" \")\n",
    "d={}\n",
    "unique=[]\n",
    "\n",
    "for i in l:\n",
    "    d[i]=0\n",
    "\n",
    "for i in d:\n",
    "    unique.append(i)\n",
    "\n",
    "d={}\n",
    "for i in unique:\n",
    "    temp = i\n",
    "    asci = 0\n",
    "    for j in temp:\n",
    "        asci = asci + ord(j)\n",
    "    d[temp]=asci\n",
    "\n",
    "l=list(d.keys())\n",
    "l.sort()\n",
    "l"
   ]
  },
  {
   "cell_type": "markdown",
   "id": "48511dff",
   "metadata": {},
   "source": [
    "### Write a program that accepts a sentence and calculate the number of letters and digits."
   ]
  },
  {
   "cell_type": "code",
   "execution_count": 57,
   "id": "ab24e051",
   "metadata": {},
   "outputs": [],
   "source": [
    "def letters_digits (s):\n",
    "    letter_count=0\n",
    "    digit_count=0\n",
    "    \n",
    "    for i in s:\n",
    "        if i != \" \":\n",
    "            if 65 <= ord(i) and ord(i) <= 122:\n",
    "                letter_count= letter_count+1\n",
    "            else:\n",
    "                digit_count= digit_count+1\n",
    "    \n",
    "    return letter_count, digit_count "
   ]
  },
  {
   "cell_type": "code",
   "execution_count": 60,
   "id": "e2b96dd6",
   "metadata": {},
   "outputs": [
    {
     "data": {
      "text/plain": [
       "(10, 4)"
      ]
     },
     "execution_count": 60,
     "metadata": {},
     "output_type": "execute_result"
    }
   ],
   "source": [
    "letters_digits(\"hello world! 123\")"
   ]
  }
 ],
 "metadata": {
  "kernelspec": {
   "display_name": "Python 3",
   "language": "python",
   "name": "python3"
  },
  "language_info": {
   "codemirror_mode": {
    "name": "ipython",
    "version": 3
   },
   "file_extension": ".py",
   "mimetype": "text/x-python",
   "name": "python",
   "nbconvert_exporter": "python",
   "pygments_lexer": "ipython3",
   "version": "3.8.8"
  }
 },
 "nbformat": 4,
 "nbformat_minor": 5
}
